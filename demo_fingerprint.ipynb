{
 "cells": [
  {
   "cell_type": "code",
   "execution_count": 25,
   "id": "f473b5b0-a1e5-40aa-8b19-28711d4a8874",
   "metadata": {},
   "outputs": [],
   "source": [
    "import fingerprint_feature_extractor\n",
    "import cv2\n",
    "import matplotlib.pyplot as plt"
   ]
  },
  {
   "cell_type": "code",
   "execution_count": 5,
   "id": "2b044481-3810-43f6-91bf-bb91463c00b8",
   "metadata": {},
   "outputs": [],
   "source": [
    "img = cv2.imread('dataset/img/img_1.jpg', 0)"
   ]
  },
  {
   "cell_type": "code",
   "execution_count": 26,
   "id": "cdc9c058-96e2-4b4d-89ac-637b187ce2d8",
   "metadata": {},
   "outputs": [
    {
     "data": {
      "text/plain": [
       "<matplotlib.image.AxesImage at 0x284ad645510>"
      ]
     },
     "execution_count": 26,
     "metadata": {},
     "output_type": "execute_result"
    },
    {
     "data": {
      "image/png": "[encoded data removed]",
      "text/plain": [
       "<Figure size 640x480 with 1 Axes>"
      ]
     },
     "metadata": {},
     "output_type": "display_data"
    }
   ],
   "source": [
    "plt.imshow(img, 'gray')"
   ]
  },
  {
   "cell_type": "code",
   "execution_count": 7,
   "id": "ce0a70c1-2226-408d-b3a1-34c462f7a778",
   "metadata": {},
   "outputs": [],
   "source": [
    "FeaturesTerminations, FeaturesBifurcations = fingerprint_feature_extractor.extract_minutiae_features(img, spuriousMinutiaeThresh=10, invertImage=False, showResult=False, saveResult=True)"
   ]
  },
  {
   "cell_type": "code",
   "execution_count": 27,
   "id": "a960301f-ce52-4532-822e-d4c22d166c3b",
   "metadata": {},
   "outputs": [
    {
     "data": {
      "text/plain": [
       "[-180.0, -0.0, -90.0]"
      ]
     },
     "execution_count": 27,
     "metadata": {},
     "output_type": "execute_result"
    }
   ],
   "source": [
    "FeaturesBifurcations[0].Orientation"
   ]
  },
  {
   "cell_type": "code",
   "execution_count": 41,
   "id": "f4bde0ed-9337-4969-9c5b-e3a28091cd34",
   "metadata": {},
   "outputs": [
    {
     "data": {
      "text/plain": [
       "33"
      ]
     },
     "execution_count": 41,
     "metadata": {},
     "output_type": "execute_result"
    }
   ],
   "source": [
    "len(FeaturesTerminations)"
   ]
  },
  {
   "cell_type": "code",
   "execution_count": 42,
   "id": "9efbebe8-8f6f-4ad8-b3b5-ac6adf97478a",
   "metadata": {},
   "outputs": [
    {
     "data": {
      "text/plain": [
       "(1298, 1920)"
      ]
     },
     "execution_count": 42,
     "metadata": {},
     "output_type": "execute_result"
    }
   ],
   "source": [
    "img.shape"
   ]
  },
  {
   "cell_type": "code",
   "execution_count": 39,
   "id": "5bbee40a-34de-4c46-aa7a-dbcec062dfea",
   "metadata": {},
   "outputs": [
    {
     "name": "stdout",
     "output_type": "stream",
     "text": [
      "185 802 [153.434948822922]\n",
      "187 167 [26.56505117707799]\n",
      "187 475 [26.56505117707799]\n",
      "187 991 [26.56505117707799]\n",
      "188 290 [153.434948822922]\n",
      "188 1114 [153.434948822922]\n",
      "268 897 [63.43494882292201]\n",
      "268 1206 [63.43494882292201]\n",
      "268 1715 [153.434948822922]\n",
      "269 381 [63.43494882292201]\n",
      "269 1220 [26.56505117707799]\n",
      "278 1725 [-63.43494882292201]\n",
      "427 229 [-116.56505117707799]\n",
      "427 1053 [-116.56505117707799]\n",
      "532 641 [-116.56505117707799]\n",
      "532 1464 [-90.0]\n",
      "765 639 [63.43494882292201]\n",
      "765 1463 [63.43494882292201]\n",
      "869 227 [63.43494882292201]\n",
      "869 1051 [63.43494882292201]\n",
      "1016 1726 [63.43494882292201]\n",
      "1025 1218 [-45.0]\n",
      "1028 383 [-116.56505117707799]\n",
      "1028 899 [-116.56505117707799]\n",
      "1028 1716 [-153.434948822922]\n",
      "1029 1208 [-116.56505117707799]\n",
      "1108 291 [-153.434948822922]\n",
      "1108 1115 [-153.434948822922]\n",
      "1111 170 [-26.56505117707799]\n",
      "1111 478 [-26.56505117707799]\n",
      "1111 803 [-153.434948822922]\n",
      "1111 994 [-26.56505117707799]\n",
      "1211 1243 [63.43494882292201]\n"
     ]
    }
   ],
   "source": [
    "for obj in FeaturesTerminations:\n",
    "    print(obj.locX, obj.locY, obj.Orientation)"
   ]
  },
  {
   "cell_type": "code",
   "execution_count": 22,
   "id": "52d96eba-b32f-4983-b80d-d253501168ec",
   "metadata": {},
   "outputs": [
    {
     "data": {
      "text/plain": [
       "187"
      ]
     },
     "execution_count": 22,
     "metadata": {},
     "output_type": "execute_result"
    }
   ],
   "source": [
    "FeaturesTerminations[1].locX"
   ]
  },
  {
   "cell_type": "code",
   "execution_count": 32,
   "id": "8112c100-1839-4898-94b9-736434383bb7",
   "metadata": {},
   "outputs": [
    {
     "data": {
      "text/plain": [
       "187"
      ]
     },
     "execution_count": 32,
     "metadata": {},
     "output_type": "execute_result"
    }
   ],
   "source": [
    "FeaturesTerminations[2].locX"
   ]
  },
  {
   "cell_type": "code",
   "execution_count": 33,
   "id": "7b6ec854-a077-4896-b948-c6c116001bea",
   "metadata": {},
   "outputs": [
    {
     "data": {
      "text/plain": [
       "187"
      ]
     },
     "execution_count": 33,
     "metadata": {},
     "output_type": "execute_result"
    }
   ],
   "source": [
    "FeaturesTerminations[3].locX"
   ]
  },
  {
   "cell_type": "code",
   "execution_count": 34,
   "id": "871759b0-0a76-4c15-ac1d-21a4b399d349",
   "metadata": {},
   "outputs": [
    {
     "data": {
      "text/plain": [
       "188"
      ]
     },
     "execution_count": 34,
     "metadata": {},
     "output_type": "execute_result"
    }
   ],
   "source": [
    "FeaturesTerminations[4].locX"
   ]
  },
  {
   "cell_type": "code",
   "execution_count": 35,
   "id": "b7394212-27cc-4da7-b08e-96753fc55fd6",
   "metadata": {},
   "outputs": [
    {
     "data": {
      "text/plain": [
       "188"
      ]
     },
     "execution_count": 35,
     "metadata": {},
     "output_type": "execute_result"
    }
   ],
   "source": [
    "FeaturesTerminations[5].locX"
   ]
  },
  {
   "cell_type": "code",
   "execution_count": 38,
   "id": "a2982f57-cb0e-4cd9-b8fc-09af00e80148",
   "metadata": {},
   "outputs": [
    {
     "data": {
      "text/plain": [
       "33"
      ]
     },
     "execution_count": 38,
     "metadata": {},
     "output_type": "execute_result"
    }
   ],
   "source": [
    "len(FeaturesTerminations)"
   ]
  },
  {
   "cell_type": "code",
   "execution_count": 43,
   "id": "6d60e96c-b62f-40d4-81ed-73befc4ba8e2",
   "metadata": {},
   "outputs": [
    {
     "name": "stdout",
     "output_type": "stream",
     "text": [
      "Collecting fingerprints-matching\n",
      "  Downloading fingerprints_matching-0.1.0-py3-none-any.whl (4.5 kB)\n",
      "Requirement already satisfied: opencv-python in c:\\users\\acer\\anaconda3\\envs\\gotoro\\lib\\site-packages (from fingerprints-matching) (4.7.0.68)\n",
      "Requirement already satisfied: numpy in c:\\users\\acer\\anaconda3\\envs\\gotoro\\lib\\site-packages (from fingerprints-matching) (1.23.5)\n",
      "Installing collected packages: fingerprints-matching\n",
      "Successfully installed fingerprints-matching-0.1.0\n"
     ]
    }
   ],
   "source": [
    "!pip install fingerprints-matching"
   ]
  },
  {
   "cell_type": "code",
   "execution_count": 44,
   "id": "6a68d59a-0f5d-4e63-add1-d0eacf23d8f7",
   "metadata": {},
   "outputs": [],
   "source": [
    "from fingerprints_matching.fingerprints_matching import FingerprintsMatching"
   ]
  },
  {
   "cell_type": "code",
   "execution_count": 56,
   "id": "17580dda-9b29-4e8c-8c6a-a8dc21e60b16",
   "metadata": {},
   "outputs": [],
   "source": [
    "img1_path = \"dataset/img/img_1.jpg\"\n",
    "img2_path = \"dataset/img/img_1_shift_1.jpg\""
   ]
  },
  {
   "cell_type": "code",
   "execution_count": 59,
   "id": "f991c55a-da71-4dc7-9e5f-9e71a014ff82",
   "metadata": {},
   "outputs": [],
   "source": [
    "match_score = FingerprintsMatching.fingerprints_matching(img1_path, img1_path)"
   ]
  },
  {
   "cell_type": "code",
   "execution_count": 60,
   "id": "dc4d98f0-486d-4f78-848d-57dc35d7b610",
   "metadata": {},
   "outputs": [
    {
     "data": {
      "text/plain": [
       "1.0"
      ]
     },
     "execution_count": 60,
     "metadata": {},
     "output_type": "execute_result"
    }
   ],
   "source": [
    "match_score"
   ]
  },
  {
   "cell_type": "code",
   "execution_count": 61,
   "id": "5a49eb0e-4ab0-4835-8ca6-71bdba62120e",
   "metadata": {},
   "outputs": [
    {
     "name": "stdout",
     "output_type": "stream",
     "text": [
      "Collecting fingerflow\n",
      "  Downloading fingerflow-3.0.1-py3-none-any.whl (54 kB)\n",
      "     -------------------------------------- 54.5/54.5 kB 703.1 kB/s eta 0:00:00\n",
      "Requirement already satisfied: scipy>=1.6.2 in c:\\users\\acer\\anaconda3\\envs\\gotoro\\lib\\site-packages (from fingerflow) (1.10.0)\n",
      "Requirement already satisfied: tensorflow>=2.5.1 in c:\\users\\acer\\anaconda3\\envs\\gotoro\\lib\\site-packages (from fingerflow) (2.11.0)\n",
      "Collecting Keras-Applications>=1.0.8\n",
      "  Downloading Keras_Applications-1.0.8-py3-none-any.whl (50 kB)\n",
      "     ---------------------------------------- 50.7/50.7 kB ? eta 0:00:00\n",
      "Requirement already satisfied: matplotlib>=3.4.2 in c:\\users\\acer\\anaconda3\\envs\\gotoro\\lib\\site-packages (from fingerflow) (3.7.0)\n",
      "Requirement already satisfied: opencv-python>=4.5.3.36 in c:\\users\\acer\\anaconda3\\envs\\gotoro\\lib\\site-packages (from fingerflow) (4.7.0.68)\n",
      "Requirement already satisfied: pandas>=1.3.1 in c:\\users\\acer\\anaconda3\\envs\\gotoro\\lib\\site-packages (from fingerflow) (1.5.2)\n",
      "Requirement already satisfied: numpy>=1.19.5 in c:\\users\\acer\\anaconda3\\envs\\gotoro\\lib\\site-packages (from fingerflow) (1.23.5)\n",
      "Requirement already satisfied: scikit-image>=0.18.3 in c:\\users\\acer\\anaconda3\\envs\\gotoro\\lib\\site-packages (from fingerflow) (0.20.0)\n",
      "Requirement already satisfied: h5py in c:\\users\\acer\\anaconda3\\envs\\gotoro\\lib\\site-packages (from Keras-Applications>=1.0.8->fingerflow) (3.7.0)\n",
      "Requirement already satisfied: packaging>=20.0 in c:\\users\\acer\\anaconda3\\envs\\gotoro\\lib\\site-packages (from matplotlib>=3.4.2->fingerflow) (22.0)\n",
      "Requirement already satisfied: python-dateutil>=2.7 in c:\\users\\acer\\anaconda3\\envs\\gotoro\\lib\\site-packages (from matplotlib>=3.4.2->fingerflow) (2.8.2)\n",
      "Requirement already satisfied: contourpy>=1.0.1 in c:\\users\\acer\\anaconda3\\envs\\gotoro\\lib\\site-packages (from matplotlib>=3.4.2->fingerflow) (1.0.7)\n",
      "Requirement already satisfied: pyparsing>=2.3.1 in c:\\users\\acer\\anaconda3\\envs\\gotoro\\lib\\site-packages (from matplotlib>=3.4.2->fingerflow) (3.0.9)\n",
      "Requirement already satisfied: cycler>=0.10 in c:\\users\\acer\\anaconda3\\envs\\gotoro\\lib\\site-packages (from matplotlib>=3.4.2->fingerflow) (0.11.0)\n",
      "Requirement already satisfied: pillow>=6.2.0 in c:\\users\\acer\\anaconda3\\envs\\gotoro\\lib\\site-packages (from matplotlib>=3.4.2->fingerflow) (9.4.0)\n",
      "Requirement already satisfied: fonttools>=4.22.0 in c:\\users\\acer\\anaconda3\\envs\\gotoro\\lib\\site-packages (from matplotlib>=3.4.2->fingerflow) (4.38.0)\n",
      "Requirement already satisfied: kiwisolver>=1.0.1 in c:\\users\\acer\\anaconda3\\envs\\gotoro\\lib\\site-packages (from matplotlib>=3.4.2->fingerflow) (1.4.4)\n",
      "Requirement already satisfied: pytz>=2020.1 in c:\\users\\acer\\anaconda3\\envs\\gotoro\\lib\\site-packages (from pandas>=1.3.1->fingerflow) (2022.7)\n",
      "Requirement already satisfied: imageio>=2.4.1 in c:\\users\\acer\\anaconda3\\envs\\gotoro\\lib\\site-packages (from scikit-image>=0.18.3->fingerflow) (2.26.0)\n",
      "Requirement already satisfied: networkx>=2.8 in c:\\users\\acer\\anaconda3\\envs\\gotoro\\lib\\site-packages (from scikit-image>=0.18.3->fingerflow) (3.0)\n",
      "Requirement already satisfied: tifffile>=2019.7.26 in c:\\users\\acer\\anaconda3\\envs\\gotoro\\lib\\site-packages (from scikit-image>=0.18.3->fingerflow) (2023.2.28)\n",
      "Requirement already satisfied: PyWavelets>=1.1.1 in c:\\users\\acer\\anaconda3\\envs\\gotoro\\lib\\site-packages (from scikit-image>=0.18.3->fingerflow) (1.4.1)\n",
      "Requirement already satisfied: lazy_loader>=0.1 in c:\\users\\acer\\anaconda3\\envs\\gotoro\\lib\\site-packages (from scikit-image>=0.18.3->fingerflow) (0.1)\n",
      "Requirement already satisfied: tensorflow-intel==2.11.0 in c:\\users\\acer\\anaconda3\\envs\\gotoro\\lib\\site-packages (from tensorflow>=2.5.1->fingerflow) (2.11.0)\n",
      "Requirement already satisfied: wrapt>=1.11.0 in c:\\users\\acer\\anaconda3\\envs\\gotoro\\lib\\site-packages (from tensorflow-intel==2.11.0->tensorflow>=2.5.1->fingerflow) (1.14.1)\n",
      "Requirement already satisfied: grpcio<2.0,>=1.24.3 in c:\\users\\acer\\anaconda3\\envs\\gotoro\\lib\\site-packages (from tensorflow-intel==2.11.0->tensorflow>=2.5.1->fingerflow) (1.51.1)\n",
      "Requirement already satisfied: google-pasta>=0.1.1 in c:\\users\\acer\\anaconda3\\envs\\gotoro\\lib\\site-packages (from tensorflow-intel==2.11.0->tensorflow>=2.5.1->fingerflow) (0.2.0)\n",
      "Requirement already satisfied: termcolor>=1.1.0 in c:\\users\\acer\\anaconda3\\envs\\gotoro\\lib\\site-packages (from tensorflow-intel==2.11.0->tensorflow>=2.5.1->fingerflow) (2.2.0)\n",
      "Requirement already satisfied: gast<=0.4.0,>=0.2.1 in c:\\users\\acer\\anaconda3\\envs\\gotoro\\lib\\site-packages (from tensorflow-intel==2.11.0->tensorflow>=2.5.1->fingerflow) (0.4.0)\n",
      "Requirement already satisfied: absl-py>=1.0.0 in c:\\users\\acer\\anaconda3\\envs\\gotoro\\lib\\site-packages (from tensorflow-intel==2.11.0->tensorflow>=2.5.1->fingerflow) (1.4.0)\n",
      "Requirement already satisfied: opt-einsum>=2.3.2 in c:\\users\\acer\\anaconda3\\envs\\gotoro\\lib\\site-packages (from tensorflow-intel==2.11.0->tensorflow>=2.5.1->fingerflow) (3.3.0)\n",
      "Requirement already satisfied: setuptools in c:\\users\\acer\\anaconda3\\envs\\gotoro\\lib\\site-packages (from tensorflow-intel==2.11.0->tensorflow>=2.5.1->fingerflow) (65.6.3)\n",
      "Requirement already satisfied: libclang>=13.0.0 in c:\\users\\acer\\anaconda3\\envs\\gotoro\\lib\\site-packages (from tensorflow-intel==2.11.0->tensorflow>=2.5.1->fingerflow) (15.0.6.1)\n",
      "Requirement already satisfied: protobuf<3.20,>=3.9.2 in c:\\users\\acer\\anaconda3\\envs\\gotoro\\lib\\site-packages (from tensorflow-intel==2.11.0->tensorflow>=2.5.1->fingerflow) (3.19.6)\n",
      "Requirement already satisfied: typing-extensions>=3.6.6 in c:\\users\\acer\\anaconda3\\envs\\gotoro\\lib\\site-packages (from tensorflow-intel==2.11.0->tensorflow>=2.5.1->fingerflow) (4.4.0)\n",
      "Requirement already satisfied: tensorflow-io-gcs-filesystem>=0.23.1 in c:\\users\\acer\\anaconda3\\envs\\gotoro\\lib\\site-packages (from tensorflow-intel==2.11.0->tensorflow>=2.5.1->fingerflow) (0.29.0)\n",
      "Requirement already satisfied: six>=1.12.0 in c:\\users\\acer\\anaconda3\\envs\\gotoro\\lib\\site-packages (from tensorflow-intel==2.11.0->tensorflow>=2.5.1->fingerflow) (1.16.0)\n",
      "Collecting tensorboard<2.12,>=2.11\n",
      "  Using cached tensorboard-2.11.2-py3-none-any.whl (6.0 MB)\n",
      "Collecting tensorflow-estimator<2.12,>=2.11.0\n",
      "  Using cached tensorflow_estimator-2.11.0-py2.py3-none-any.whl (439 kB)\n",
      "Requirement already satisfied: astunparse>=1.6.0 in c:\\users\\acer\\anaconda3\\envs\\gotoro\\lib\\site-packages (from tensorflow-intel==2.11.0->tensorflow>=2.5.1->fingerflow) (1.6.3)\n",
      "Collecting keras<2.12,>=2.11.0\n",
      "  Using cached keras-2.11.0-py2.py3-none-any.whl (1.7 MB)\n",
      "Requirement already satisfied: flatbuffers>=2.0 in c:\\users\\acer\\anaconda3\\envs\\gotoro\\lib\\site-packages (from tensorflow-intel==2.11.0->tensorflow>=2.5.1->fingerflow) (23.1.4)\n",
      "Requirement already satisfied: wheel<1.0,>=0.23.0 in c:\\users\\acer\\anaconda3\\envs\\gotoro\\lib\\site-packages (from astunparse>=1.6.0->tensorflow-intel==2.11.0->tensorflow>=2.5.1->fingerflow) (0.37.1)\n",
      "Requirement already satisfied: markdown>=2.6.8 in c:\\users\\acer\\anaconda3\\envs\\gotoro\\lib\\site-packages (from tensorboard<2.12,>=2.11->tensorflow-intel==2.11.0->tensorflow>=2.5.1->fingerflow) (3.4.1)\n",
      "Requirement already satisfied: werkzeug>=1.0.1 in c:\\users\\acer\\anaconda3\\envs\\gotoro\\lib\\site-packages (from tensorboard<2.12,>=2.11->tensorflow-intel==2.11.0->tensorflow>=2.5.1->fingerflow) (2.2.2)\n",
      "Requirement already satisfied: tensorboard-plugin-wit>=1.6.0 in c:\\users\\acer\\anaconda3\\envs\\gotoro\\lib\\site-packages (from tensorboard<2.12,>=2.11->tensorflow-intel==2.11.0->tensorflow>=2.5.1->fingerflow) (1.8.1)\n",
      "Requirement already satisfied: google-auth<3,>=1.6.3 in c:\\users\\acer\\anaconda3\\envs\\gotoro\\lib\\site-packages (from tensorboard<2.12,>=2.11->tensorflow-intel==2.11.0->tensorflow>=2.5.1->fingerflow) (2.16.0)\n",
      "Requirement already satisfied: requests<3,>=2.21.0 in c:\\users\\acer\\anaconda3\\envs\\gotoro\\lib\\site-packages (from tensorboard<2.12,>=2.11->tensorflow-intel==2.11.0->tensorflow>=2.5.1->fingerflow) (2.28.1)\n",
      "Requirement already satisfied: tensorboard-data-server<0.7.0,>=0.6.0 in c:\\users\\acer\\anaconda3\\envs\\gotoro\\lib\\site-packages (from tensorboard<2.12,>=2.11->tensorflow-intel==2.11.0->tensorflow>=2.5.1->fingerflow) (0.6.1)\n",
      "Requirement already satisfied: google-auth-oauthlib<0.5,>=0.4.1 in c:\\users\\acer\\anaconda3\\envs\\gotoro\\lib\\site-packages (from tensorboard<2.12,>=2.11->tensorflow-intel==2.11.0->tensorflow>=2.5.1->fingerflow) (0.4.6)\n",
      "Requirement already satisfied: cachetools<6.0,>=2.0.0 in c:\\users\\acer\\anaconda3\\envs\\gotoro\\lib\\site-packages (from google-auth<3,>=1.6.3->tensorboard<2.12,>=2.11->tensorflow-intel==2.11.0->tensorflow>=2.5.1->fingerflow) (5.2.1)\n",
      "Requirement already satisfied: rsa<5,>=3.1.4 in c:\\users\\acer\\anaconda3\\envs\\gotoro\\lib\\site-packages (from google-auth<3,>=1.6.3->tensorboard<2.12,>=2.11->tensorflow-intel==2.11.0->tensorflow>=2.5.1->fingerflow) (4.9)\n",
      "Requirement already satisfied: pyasn1-modules>=0.2.1 in c:\\users\\acer\\anaconda3\\envs\\gotoro\\lib\\site-packages (from google-auth<3,>=1.6.3->tensorboard<2.12,>=2.11->tensorflow-intel==2.11.0->tensorflow>=2.5.1->fingerflow) (0.2.8)\n",
      "Requirement already satisfied: requests-oauthlib>=0.7.0 in c:\\users\\acer\\anaconda3\\envs\\gotoro\\lib\\site-packages (from google-auth-oauthlib<0.5,>=0.4.1->tensorboard<2.12,>=2.11->tensorflow-intel==2.11.0->tensorflow>=2.5.1->fingerflow) (1.3.1)\n",
      "Requirement already satisfied: idna<4,>=2.5 in c:\\users\\acer\\anaconda3\\envs\\gotoro\\lib\\site-packages (from requests<3,>=2.21.0->tensorboard<2.12,>=2.11->tensorflow-intel==2.11.0->tensorflow>=2.5.1->fingerflow) (3.4)\n",
      "Requirement already satisfied: charset-normalizer<3,>=2 in c:\\users\\acer\\anaconda3\\envs\\gotoro\\lib\\site-packages (from requests<3,>=2.21.0->tensorboard<2.12,>=2.11->tensorflow-intel==2.11.0->tensorflow>=2.5.1->fingerflow) (2.0.4)\n",
      "Requirement already satisfied: urllib3<1.27,>=1.21.1 in c:\\users\\acer\\anaconda3\\envs\\gotoro\\lib\\site-packages (from requests<3,>=2.21.0->tensorboard<2.12,>=2.11->tensorflow-intel==2.11.0->tensorflow>=2.5.1->fingerflow) (1.26.14)\n",
      "Requirement already satisfied: certifi>=2017.4.17 in c:\\users\\acer\\anaconda3\\envs\\gotoro\\lib\\site-packages (from requests<3,>=2.21.0->tensorboard<2.12,>=2.11->tensorflow-intel==2.11.0->tensorflow>=2.5.1->fingerflow) (2022.12.7)\n",
      "Requirement already satisfied: MarkupSafe>=2.1.1 in c:\\users\\acer\\anaconda3\\envs\\gotoro\\lib\\site-packages (from werkzeug>=1.0.1->tensorboard<2.12,>=2.11->tensorflow-intel==2.11.0->tensorflow>=2.5.1->fingerflow) (2.1.1)\n",
      "Requirement already satisfied: pyasn1<0.5.0,>=0.4.6 in c:\\users\\acer\\anaconda3\\envs\\gotoro\\lib\\site-packages (from pyasn1-modules>=0.2.1->google-auth<3,>=1.6.3->tensorboard<2.12,>=2.11->tensorflow-intel==2.11.0->tensorflow>=2.5.1->fingerflow) (0.4.8)\n",
      "Requirement already satisfied: oauthlib>=3.0.0 in c:\\users\\acer\\anaconda3\\envs\\gotoro\\lib\\site-packages (from requests-oauthlib>=0.7.0->google-auth-oauthlib<0.5,>=0.4.1->tensorboard<2.12,>=2.11->tensorflow-intel==2.11.0->tensorflow>=2.5.1->fingerflow) (3.2.2)\n",
      "Installing collected packages: tensorflow-estimator, keras, Keras-Applications, tensorboard, fingerflow\n",
      "  Attempting uninstall: tensorflow-estimator\n",
      "    Found existing installation: tensorflow-estimator 2.10.0\n",
      "    Uninstalling tensorflow-estimator-2.10.0:\n",
      "      Successfully uninstalled tensorflow-estimator-2.10.0\n",
      "  Attempting uninstall: keras\n",
      "    Found existing installation: keras 2.10.0\n",
      "    Uninstalling keras-2.10.0:\n",
      "      Successfully uninstalled keras-2.10.0\n",
      "  Attempting uninstall: tensorboard\n",
      "    Found existing installation: tensorboard 2.10.1\n",
      "    Uninstalling tensorboard-2.10.1:\n",
      "      Successfully uninstalled tensorboard-2.10.1\n",
      "Successfully installed Keras-Applications-1.0.8 fingerflow-3.0.1 keras-2.11.0 tensorboard-2.11.2 tensorflow-estimator-2.11.0\n"
     ]
    },
    {
     "name": "stderr",
     "output_type": "stream",
     "text": [
      "ERROR: pip's dependency resolver does not currently take into account all the packages that are installed. This behaviour is the source of the following dependency conflicts.\n",
      "tensorflow-gpu 2.10.1 requires keras<2.11,>=2.10.0, but you have keras 2.11.0 which is incompatible.\n",
      "tensorflow-gpu 2.10.1 requires tensorboard<2.11,>=2.10, but you have tensorboard 2.11.2 which is incompatible.\n",
      "tensorflow-gpu 2.10.1 requires tensorflow-estimator<2.11,>=2.10.0, but you have tensorflow-estimator 2.11.0 which is incompatible.\n"
     ]
    }
   ],
   "source": [
    "!pip install fingerflow"
   ]
  },
  {
   "cell_type": "code",
   "execution_count": 3,
   "id": "519b99bb-8da7-4c86-82bc-61f16644092f",
   "metadata": {},
   "outputs": [
    {
     "ename": "NotFoundError",
     "evalue": "Unsuccessful TensorSliceReader constructor: Failed to find any matching files for coarse_net",
     "output_type": "error",
     "traceback": [
      "\u001b[1;31m---------------------------------------------------------------------------\u001b[0m",
      "\u001b[1;31mNotFoundError\u001b[0m                             Traceback (most recent call last)",
      "Cell \u001b[1;32mIn[3], line 5\u001b[0m\n\u001b[0;32m      2\u001b[0m \u001b[38;5;28;01mimport\u001b[39;00m \u001b[38;5;21;01mnumpy\u001b[39;00m \u001b[38;5;28;01mas\u001b[39;00m \u001b[38;5;21;01mnp\u001b[39;00m\n\u001b[0;32m      3\u001b[0m \u001b[38;5;28;01mfrom\u001b[39;00m \u001b[38;5;21;01mfingerflow\u001b[39;00m\u001b[38;5;21;01m.\u001b[39;00m\u001b[38;5;21;01mextractor\u001b[39;00m \u001b[38;5;28;01mimport\u001b[39;00m Extractor\n\u001b[1;32m----> 5\u001b[0m extractor \u001b[38;5;241m=\u001b[39m \u001b[43mExtractor\u001b[49m\u001b[43m(\u001b[49m\u001b[38;5;124;43m\"\u001b[39;49m\u001b[38;5;124;43mcoarse_net\u001b[39;49m\u001b[38;5;124;43m\"\u001b[39;49m\u001b[43m,\u001b[49m\u001b[43m \u001b[49m\u001b[38;5;124;43m\"\u001b[39;49m\u001b[38;5;124;43mfine_net\u001b[39;49m\u001b[38;5;124;43m\"\u001b[39;49m\u001b[43m,\u001b[49m\u001b[43m \u001b[49m\u001b[38;5;124;43m\"\u001b[39;49m\u001b[38;5;124;43mclassify_net\u001b[39;49m\u001b[38;5;124;43m\"\u001b[39;49m\u001b[43m,\u001b[49m\u001b[43m \u001b[49m\u001b[38;5;124;43m\"\u001b[39;49m\u001b[38;5;124;43mcore_net\u001b[39;49m\u001b[38;5;124;43m\"\u001b[39;49m\u001b[43m)\u001b[49m\n\u001b[0;32m      7\u001b[0m image \u001b[38;5;241m=\u001b[39m cv2\u001b[38;5;241m.\u001b[39mimread(\u001b[38;5;124m\"\u001b[39m\u001b[38;5;124msome_image\u001b[39m\u001b[38;5;124m\"\u001b[39m)\n\u001b[0;32m      9\u001b[0m extracted_minutiae \u001b[38;5;241m=\u001b[39m extractor\u001b[38;5;241m.\u001b[39mextract_minutiae(image)\n",
      "File \u001b[1;32m~\\anaconda3\\envs\\gotoro\\lib\\site-packages\\fingerflow\\extractor\\extractor.py:9\u001b[0m, in \u001b[0;36mExtractor.__init__\u001b[1;34m(self, coarse_net_path, fine_net_path, classify_net_path, core_net_path)\u001b[0m\n\u001b[0;32m      8\u001b[0m \u001b[38;5;28;01mdef\u001b[39;00m \u001b[38;5;21m__init__\u001b[39m(\u001b[38;5;28mself\u001b[39m, coarse_net_path, fine_net_path, classify_net_path, core_net_path):\n\u001b[1;32m----> 9\u001b[0m     \u001b[38;5;28mself\u001b[39m\u001b[38;5;241m.\u001b[39m__extraction_module \u001b[38;5;241m=\u001b[39m \u001b[43mMinutiaeNet\u001b[49m\u001b[43m(\u001b[49m\u001b[43mcoarse_net_path\u001b[49m\u001b[43m,\u001b[49m\u001b[43m \u001b[49m\u001b[43mfine_net_path\u001b[49m\u001b[43m)\u001b[49m\n\u001b[0;32m     10\u001b[0m     \u001b[38;5;28mself\u001b[39m\u001b[38;5;241m.\u001b[39m__classification_module \u001b[38;5;241m=\u001b[39m ClassifyNet(classify_net_path)\n\u001b[0;32m     11\u001b[0m     \u001b[38;5;28mself\u001b[39m\u001b[38;5;241m.\u001b[39m__core_detection_module \u001b[38;5;241m=\u001b[39m CoreNet(core_net_path)\n",
      "File \u001b[1;32m~\\anaconda3\\envs\\gotoro\\lib\\site-packages\\fingerflow\\extractor\\minutiae_net.py:13\u001b[0m, in \u001b[0;36mMinutiaeNet.__init__\u001b[1;34m(self, coarse_net_path, fine_net_path)\u001b[0m\n\u001b[0;32m     11\u001b[0m \u001b[38;5;28;01mdef\u001b[39;00m \u001b[38;5;21m__init__\u001b[39m(\u001b[38;5;28mself\u001b[39m, coarse_net_path, fine_net_path):\n\u001b[0;32m     12\u001b[0m     \u001b[38;5;66;03m# Load CoarseNet model\u001b[39;00m\n\u001b[1;32m---> 13\u001b[0m     \u001b[38;5;28mself\u001b[39m\u001b[38;5;241m.\u001b[39m__coarse_net \u001b[38;5;241m=\u001b[39m \u001b[43mcoarse_net_model\u001b[49m\u001b[38;5;241;43m.\u001b[39;49m\u001b[43mget_coarse_net_model\u001b[49m\u001b[43m(\u001b[49m\n\u001b[0;32m     14\u001b[0m \u001b[43m        \u001b[49m\u001b[43m(\u001b[49m\u001b[38;5;28;43;01mNone\u001b[39;49;00m\u001b[43m,\u001b[49m\u001b[43m \u001b[49m\u001b[38;5;28;43;01mNone\u001b[39;49;00m\u001b[43m,\u001b[49m\u001b[43m \u001b[49m\u001b[38;5;241;43m1\u001b[39;49m\u001b[43m)\u001b[49m\u001b[43m,\u001b[49m\u001b[43m \u001b[49m\u001b[43mcoarse_net_path\u001b[49m\u001b[43m,\u001b[49m\u001b[43m \u001b[49m\u001b[43mmode\u001b[49m\u001b[38;5;241;43m=\u001b[39;49m\u001b[38;5;124;43m'\u001b[39;49m\u001b[38;5;124;43mdeploy\u001b[39;49m\u001b[38;5;124;43m'\u001b[39;49m\u001b[43m)\u001b[49m\n\u001b[0;32m     16\u001b[0m     \u001b[38;5;66;03m# Load FineNet model\u001b[39;00m\n\u001b[0;32m     17\u001b[0m     \u001b[38;5;28mself\u001b[39m\u001b[38;5;241m.\u001b[39m__fine_net \u001b[38;5;241m=\u001b[39m fine_net_model\u001b[38;5;241m.\u001b[39mget_fine_net_model(num_classes\u001b[38;5;241m=\u001b[39m\u001b[38;5;241m2\u001b[39m,\n\u001b[0;32m     18\u001b[0m                                                         pretrained_path\u001b[38;5;241m=\u001b[39mfine_net_path,\n\u001b[0;32m     19\u001b[0m                                                         input_shape\u001b[38;5;241m=\u001b[39mconstants\u001b[38;5;241m.\u001b[39mINPUT_SHAPE)\n",
      "File \u001b[1;32m~\\anaconda3\\envs\\gotoro\\lib\\site-packages\\fingerflow\\extractor\\MinutiaeNet\\CoarseNet\\coarse_net_model.py:273\u001b[0m, in \u001b[0;36mget_coarse_net_model\u001b[1;34m(input_shape, weights_path, mode)\u001b[0m\n\u001b[0;32m    259\u001b[0m     model \u001b[38;5;241m=\u001b[39m models\u001b[38;5;241m.\u001b[39mModel(\n\u001b[0;32m    260\u001b[0m         inputs\u001b[38;5;241m=\u001b[39m[\n\u001b[0;32m    261\u001b[0m             img_input,\n\u001b[1;32m   (...)\u001b[0m\n\u001b[0;32m    269\u001b[0m             mnt_h_out,\n\u001b[0;32m    270\u001b[0m             mnt_s_out])\n\u001b[0;32m    272\u001b[0m \u001b[38;5;28;01mif\u001b[39;00m weights_path \u001b[38;5;129;01mis\u001b[39;00m \u001b[38;5;129;01mnot\u001b[39;00m \u001b[38;5;28;01mNone\u001b[39;00m:\n\u001b[1;32m--> 273\u001b[0m     \u001b[43mmodel\u001b[49m\u001b[38;5;241;43m.\u001b[39;49m\u001b[43mload_weights\u001b[49m\u001b[43m(\u001b[49m\u001b[43mweights_path\u001b[49m\u001b[43m,\u001b[49m\u001b[43m \u001b[49m\u001b[43mby_name\u001b[49m\u001b[38;5;241;43m=\u001b[39;49m\u001b[38;5;28;43;01mTrue\u001b[39;49;00m\u001b[43m)\u001b[49m\n\u001b[0;32m    274\u001b[0m \u001b[38;5;28;01mreturn\u001b[39;00m model\n",
      "File \u001b[1;32m~\\anaconda3\\envs\\gotoro\\lib\\site-packages\\keras\\utils\\traceback_utils.py:70\u001b[0m, in \u001b[0;36mfilter_traceback.<locals>.error_handler\u001b[1;34m(*args, **kwargs)\u001b[0m\n\u001b[0;32m     67\u001b[0m     filtered_tb \u001b[38;5;241m=\u001b[39m _process_traceback_frames(e\u001b[38;5;241m.\u001b[39m__traceback__)\n\u001b[0;32m     68\u001b[0m     \u001b[38;5;66;03m# To get the full stack trace, call:\u001b[39;00m\n\u001b[0;32m     69\u001b[0m     \u001b[38;5;66;03m# `tf.debugging.disable_traceback_filtering()`\u001b[39;00m\n\u001b[1;32m---> 70\u001b[0m     \u001b[38;5;28;01mraise\u001b[39;00m e\u001b[38;5;241m.\u001b[39mwith_traceback(filtered_tb) \u001b[38;5;28;01mfrom\u001b[39;00m \u001b[38;5;28mNone\u001b[39m\n\u001b[0;32m     71\u001b[0m \u001b[38;5;28;01mfinally\u001b[39;00m:\n\u001b[0;32m     72\u001b[0m     \u001b[38;5;28;01mdel\u001b[39;00m filtered_tb\n",
      "File \u001b[1;32m~\\AppData\\Roaming\\Python\\Python310\\site-packages\\tensorflow\\python\\training\\py_checkpoint_reader.py:31\u001b[0m, in \u001b[0;36merror_translator\u001b[1;34m(e)\u001b[0m\n\u001b[0;32m     27\u001b[0m error_message \u001b[38;5;241m=\u001b[39m \u001b[38;5;28mstr\u001b[39m(e)\n\u001b[0;32m     28\u001b[0m \u001b[38;5;28;01mif\u001b[39;00m \u001b[38;5;124m'\u001b[39m\u001b[38;5;124mnot found in checkpoint\u001b[39m\u001b[38;5;124m'\u001b[39m \u001b[38;5;129;01min\u001b[39;00m error_message \u001b[38;5;129;01mor\u001b[39;00m (\n\u001b[0;32m     29\u001b[0m     \u001b[38;5;124m'\u001b[39m\u001b[38;5;124mFailed to find any \u001b[39m\u001b[38;5;124m'\u001b[39m\n\u001b[0;32m     30\u001b[0m     \u001b[38;5;124m'\u001b[39m\u001b[38;5;124mmatching files for\u001b[39m\u001b[38;5;124m'\u001b[39m) \u001b[38;5;129;01min\u001b[39;00m error_message:\n\u001b[1;32m---> 31\u001b[0m   \u001b[38;5;28;01mraise\u001b[39;00m errors_impl\u001b[38;5;241m.\u001b[39mNotFoundError(\u001b[38;5;28;01mNone\u001b[39;00m, \u001b[38;5;28;01mNone\u001b[39;00m, error_message)\n\u001b[0;32m     32\u001b[0m \u001b[38;5;28;01melif\u001b[39;00m \u001b[38;5;124m'\u001b[39m\u001b[38;5;124mSliced checkpoints are not supported\u001b[39m\u001b[38;5;124m'\u001b[39m \u001b[38;5;129;01min\u001b[39;00m error_message \u001b[38;5;129;01mor\u001b[39;00m (\n\u001b[0;32m     33\u001b[0m     \u001b[38;5;124m'\u001b[39m\u001b[38;5;124mData type \u001b[39m\u001b[38;5;124m'\u001b[39m\n\u001b[0;32m     34\u001b[0m     \u001b[38;5;124m'\u001b[39m\u001b[38;5;124mnot \u001b[39m\u001b[38;5;124m'\u001b[39m\n\u001b[0;32m     35\u001b[0m     \u001b[38;5;124m'\u001b[39m\u001b[38;5;124msupported\u001b[39m\u001b[38;5;124m'\u001b[39m) \u001b[38;5;129;01min\u001b[39;00m error_message:\n\u001b[0;32m     36\u001b[0m   \u001b[38;5;28;01mraise\u001b[39;00m errors_impl\u001b[38;5;241m.\u001b[39mUnimplementedError(\u001b[38;5;28;01mNone\u001b[39;00m, \u001b[38;5;28;01mNone\u001b[39;00m, error_message)\n",
      "\u001b[1;31mNotFoundError\u001b[0m: Unsuccessful TensorSliceReader constructor: Failed to find any matching files for coarse_net"
     ]
    }
   ],
   "source": [
    "import cv2\n",
    "import numpy as np\n",
    "from fingerflow.extractor import Extractor\n",
    "\n",
    "extractor = Extractor(\"coarse_net\", \"fine_net\", \"classify_net\", \"core_net\")\n",
    "\n",
    "image = cv2.imread(\"some_image\")\n",
    "\n",
    "extracted_minutiae = extractor.extract_minutiae(image)"
   ]
  },
  {
   "cell_type": "code",
   "execution_count": null,
   "id": "09a52c81-c77b-45a7-b7ab-adce78c76a87",
   "metadata": {},
   "outputs": [],
   "source": []
  }
 ],
 "metadata": {
  "kernelspec": {
   "display_name": "Python 3 (ipykernel)",
   "language": "python",
   "name": "python3"
  },
  "language_info": {
   "codemirror_mode": {
    "name": "ipython",
    "version": 3
   },
   "file_extension": ".py",
   "mimetype": "text/x-python",
   "name": "python",
   "nbconvert_exporter": "python",
   "pygments_lexer": "ipython3",
   "version": "3.10.9"
  }
 },
 "nbformat": 4,
 "nbformat_minor": 5
}
