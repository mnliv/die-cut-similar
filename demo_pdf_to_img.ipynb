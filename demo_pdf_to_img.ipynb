{
 "cells": [
  {
   "cell_type": "code",
   "execution_count": 7,
   "id": "66220c29-e501-4d38-a93b-274a2d9f95bd",
   "metadata": {},
   "outputs": [
    {
     "name": "stdout",
     "output_type": "stream",
     "text": [
      "Collecting pdf2image\n",
      "  Downloading pdf2image-1.16.3-py3-none-any.whl (11 kB)\n",
      "Requirement already satisfied: pillow in c:\\users\\acer\\anaconda3\\envs\\gotoro\\lib\\site-packages (from pdf2image) (9.4.0)\n",
      "Installing collected packages: pdf2image\n",
      "Successfully installed pdf2image-1.16.3\n"
     ]
    }
   ],
   "source": [
    "!pip install pdf2image"
   ]
  },
  {
   "cell_type": "code",
   "execution_count": 16,
   "id": "e7aca70e-a3e5-4f7d-b952-eeb939a2e4ef",
   "metadata": {},
   "outputs": [],
   "source": [
    "import cv2 as cv\n",
    "import numpy as np\n",
    "import matplotlib.pyplot as plt\n",
    "import os\n",
    "\n",
    "from pdf2image import convert_from_path"
   ]
  },
  {
   "cell_type": "code",
   "execution_count": 55,
   "id": "93bbe910-218f-4397-87d7-c39d1dce6026",
   "metadata": {},
   "outputs": [],
   "source": [
    "pdf_root_path = '.\\dataset\\pdf'\n",
    "img_root_path = '.\\dataset\\img'"
   ]
  },
  {
   "cell_type": "code",
   "execution_count": 51,
   "id": "3bad2674-bce6-4c24-994f-01d5a9d3fb02",
   "metadata": {},
   "outputs": [],
   "source": [
    "def convert_dataset_to_img(pdf_root_path, img_root_path):\n",
    "    poppler_path = \".\\poppler-23.08.0\\Library\\\\bin\"\n",
    "    pdf_names = os.listdir(pdf_path)\n",
    "    for pdf_name in pdf_names:\n",
    "        path = os.path.join(pdf_root_path, pdf_name)\n",
    "        images = convert_from_path(path, poppler_path=poppler_path)\n",
    "        images[0].save(os.path.join(img_root_path, pdf_name[:-4]) +'.jpg', 'JPEG')"
   ]
  },
  {
   "cell_type": "code",
   "execution_count": 52,
   "id": "29496d0c-7a06-4193-83ca-7fb7f0ba9b13",
   "metadata": {},
   "outputs": [],
   "source": [
    "convert_dataset_to_img(pdf_root_path, img_root_path)"
   ]
  },
  {
   "cell_type": "code",
   "execution_count": 57,
   "id": "24297049-1b93-4cc0-bded-24949dbb2f05",
   "metadata": {},
   "outputs": [],
   "source": [
    "def pdf2img(pdf_root_path, pdf_name, img_root_path):\n",
    "    path = os.path.join(pdf_root_path, pdf_name)\n",
    "    images = convert_from_path(path, poppler_path=poppler_path)\n",
    "    img_path = os.path.join(img_root_path, pdf_name[:-4]) +'.jpg'\n",
    "    images[0].save(img_path, 'JPEG')\n",
    "    return img_path"
   ]
  },
  {
   "cell_type": "code",
   "execution_count": 58,
   "id": "c2d10135-effb-41d8-abf3-d121a25b4356",
   "metadata": {},
   "outputs": [],
   "source": [
    "pdf_name = '1.pdf'\n",
    "img_path = pdf2img(pdf_root_path, pdf_name, img_root_path)"
   ]
  },
  {
   "cell_type": "code",
   "execution_count": 59,
   "id": "f2e4ae31-3540-4c13-8e90-75d5049e6aa3",
   "metadata": {},
   "outputs": [
    {
     "data": {
      "text/plain": [
       "'.\\\\dataset\\\\img\\\\1.jpg'"
      ]
     },
     "execution_count": 59,
     "metadata": {},
     "output_type": "execute_result"
    }
   ],
   "source": [
    "img_path"
   ]
  },
  {
   "cell_type": "code",
   "execution_count": 61,
   "id": "165989fc-1952-4fbe-b418-f81750459ffe",
   "metadata": {},
   "outputs": [],
   "source": [
    "img = cv.imread(img_path)"
   ]
  },
  {
   "cell_type": "code",
   "execution_count": 63,
   "id": "2b8b0987-99ab-404d-a8c7-ca5986402382",
   "metadata": {},
   "outputs": [
    {
     "data": {
      "image/png": "[encoded data removed]",
      "text/plain": [
       "<Figure size 640x480 with 1 Axes>"
      ]
     },
     "metadata": {},
     "output_type": "display_data"
    }
   ],
   "source": [
    "plt.imshow(img);"
   ]
  },
  {
   "cell_type": "code",
   "execution_count": 64,
   "id": "fd470883-11cc-433d-91de-1da8b7b188a7",
   "metadata": {},
   "outputs": [
    {
     "data": {
      "text/plain": [
       "(4292, 11267, 3)"
      ]
     },
     "execution_count": 64,
     "metadata": {},
     "output_type": "execute_result"
    }
   ],
   "source": [
    "img.shape"
   ]
  },
  {
   "cell_type": "code",
   "execution_count": null,
   "id": "06a53c05-92fb-48bf-80d5-aacc94f070c1",
   "metadata": {},
   "outputs": [],
   "source": []
  }
 ],
 "metadata": {
  "kernelspec": {
   "display_name": "Python 3 (ipykernel)",
   "language": "python",
   "name": "python3"
  },
  "language_info": {
   "codemirror_mode": {
    "name": "ipython",
    "version": 3
   },
   "file_extension": ".py",
   "mimetype": "text/x-python",
   "name": "python",
   "nbconvert_exporter": "python",
   "pygments_lexer": "ipython3",
   "version": "3.10.9"
  }
 },
 "nbformat": 4,
 "nbformat_minor": 5
}
