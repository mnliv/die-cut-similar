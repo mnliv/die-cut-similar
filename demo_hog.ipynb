{
 "cells": [
  {
   "cell_type": "code",
   "execution_count": 66,
   "id": "24868494-f8cb-44b2-8c00-363937b5349b",
   "metadata": {},
   "outputs": [],
   "source": [
    "from skimage import feature\n",
    "import cv2\n",
    "import matplotlib.pyplot as plt\n",
    "image = cv2.imread('dataset/img/img_4.jpg')\n",
    "image = cv2.cvtColor(image, cv2.COLOR_BGR2GRAY)\n",
    "(hog, hog_image) = feature.hog(image, orientations=9, \n",
    "                    pixels_per_cell=(8, 8), cells_per_block=(2, 2), \n",
    "                    block_norm='L2-Hys', visualize=True, transform_sqrt=True)"
   ]
  },
  {
   "cell_type": "code",
   "execution_count": 72,
   "id": "115d3a42-7dec-4d44-86ff-56c84385d299",
   "metadata": {},
   "outputs": [
    {
     "name": "stdout",
     "output_type": "stream",
     "text": [
      "Cosine Similarity: 0.12992346821115391\n",
      "Euclidean Distance: 57.69100474596404\n"
     ]
    }
   ],
   "source": [
    "import cv2\n",
    "from skimage import feature\n",
    "import numpy as np\n",
    "from sklearn.metrics.pairwise import cosine_similarity\n",
    "from scipy.spatial.distance import euclidean\n",
    "\n",
    "# Load two images\n",
    "image1 = cv2.imread('dataset/img/img_15_rotate_3.jpg')\n",
    "image1 = cv2.cvtColor(image1, cv2.COLOR_BGR2GRAY)\n",
    "\n",
    "image2 = cv2.imread('dataset/img/img_15.jpg')\n",
    "image2 = cv2.cvtColor(image2, cv2.COLOR_BGR2GRAY)\n",
    "\n",
    "# Compute HOG features for both images\n",
    "(hog1, hog_image1) = feature.hog(image1, orientations=9, \n",
    "                    pixels_per_cell=(8, 8), cells_per_block=(2, 2), \n",
    "                    block_norm='L2-Hys', visualize=True, transform_sqrt=True)\n",
    "\n",
    "(hog2, hog_image2) = feature.hog(image2, orientations=9, \n",
    "                    pixels_per_cell=(8, 8), cells_per_block=(2, 2), \n",
    "                    block_norm='L2-Hys', visualize=True, transform_sqrt=True)\n",
    "# Ensure HOG feature vectors have the same length\n",
    "min_len = min(len(hog1), len(hog2))\n",
    "hog1 = hog1[:min_len]\n",
    "hog2 = hog2[:min_len]\n",
    "\n",
    "# Compute similarity using cosine similarity\n",
    "cosine_sim = cosine_similarity([hog1], [hog2])[0][0]\n",
    "\n",
    "# Compute similarity using Euclidean distance (lower values mean higher similarity)\n",
    "euclidean_dist = euclidean(hog1, hog2)\n",
    "\n",
    "print(f\"Cosine Similarity: {cosine_sim}\")\n",
    "print(f\"Euclidean Distance: {euclidean_dist}\")"
   ]
  },
  {
   "cell_type": "code",
   "execution_count": 73,
   "id": "dcf9ac9a-5f69-40d1-bac8-7827929354b2",
   "metadata": {},
   "outputs": [
    {
     "data": {
      "text/plain": [
       "array([0., 0., 0., ..., 0., 0., 0.])"
      ]
     },
     "execution_count": 73,
     "metadata": {},
     "output_type": "execute_result"
    }
   ],
   "source": [
    "hog"
   ]
  },
  {
   "cell_type": "code",
   "execution_count": null,
   "id": "f1f13925-ac55-4c16-a37b-924cf9a9fa06",
   "metadata": {},
   "outputs": [],
   "source": []
  }
 ],
 "metadata": {
  "kernelspec": {
   "display_name": "Python 3 (ipykernel)",
   "language": "python",
   "name": "python3"
  },
  "language_info": {
   "codemirror_mode": {
    "name": "ipython",
    "version": 3
   },
   "file_extension": ".py",
   "mimetype": "text/x-python",
   "name": "python",
   "nbconvert_exporter": "python",
   "pygments_lexer": "ipython3",
   "version": "3.10.9"
  }
 },
 "nbformat": 4,
 "nbformat_minor": 5
}
