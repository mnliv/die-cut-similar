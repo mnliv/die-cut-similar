{
 "cells": [
  {
   "cell_type": "code",
   "execution_count": 1,
   "id": "2132020e-9ea8-4bc7-be2e-40446d96baf5",
   "metadata": {},
   "outputs": [],
   "source": [
    "import os"
   ]
  },
  {
   "cell_type": "code",
   "execution_count": 3,
   "id": "8863b7c2-fdf1-4016-8400-d8a377c4005b",
   "metadata": {},
   "outputs": [],
   "source": [
    "folder = \"dataset/img\"\n",
    "for count, filename in enumerate(os.listdir(folder)):\n",
    "    dst = f\"img_{str(count)}.jpg\"\n",
    "    src =f\"{folder}/{filename}\"  # foldername/filename, if .py file is outside folder\n",
    "    dst =f\"{folder}/{dst}\"\n",
    "\n",
    "    # rename() function will\n",
    "    # rename all the files\n",
    "    os.rename(src, dst)"
   ]
  },
  {
   "cell_type": "code",
   "execution_count": null,
   "id": "d1d2b6de-2ad0-41a4-8ce3-051bce126759",
   "metadata": {},
   "outputs": [],
   "source": []
  }
 ],
 "metadata": {
  "kernelspec": {
   "display_name": "Python 3 (ipykernel)",
   "language": "python",
   "name": "python3"
  },
  "language_info": {
   "codemirror_mode": {
    "name": "ipython",
    "version": 3
   },
   "file_extension": ".py",
   "mimetype": "text/x-python",
   "name": "python",
   "nbconvert_exporter": "python",
   "pygments_lexer": "ipython3",
   "version": "3.10.9"
  }
 },
 "nbformat": 4,
 "nbformat_minor": 5
}
